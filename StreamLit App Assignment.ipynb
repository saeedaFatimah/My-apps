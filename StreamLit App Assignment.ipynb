{
 "cells": [
  {
   "cell_type": "code",
   "execution_count": 3,
   "id": "b0bdb67a",
   "metadata": {},
   "outputs": [
    {
     "name": "stdout",
     "output_type": "stream",
     "text": [
      "<class 'pandas.core.frame.DataFrame'>\n",
      "RangeIndex: 4653 entries, 0 to 4652\n",
      "Data columns (total 9 columns):\n",
      " #   Column                     Non-Null Count  Dtype \n",
      "---  ------                     --------------  ----- \n",
      " 0   Education                  4653 non-null   object\n",
      " 1   JoiningYear                4653 non-null   int64 \n",
      " 2   City                       4653 non-null   object\n",
      " 3   PaymentTier                4653 non-null   int64 \n",
      " 4   Age                        4653 non-null   int64 \n",
      " 5   Gender                     4653 non-null   object\n",
      " 6   EverBenched                4653 non-null   object\n",
      " 7   ExperienceInCurrentDomain  4653 non-null   int64 \n",
      " 8   LeaveOrNot                 4653 non-null   int64 \n",
      "dtypes: int64(5), object(4)\n",
      "memory usage: 327.3+ KB\n",
      "\n",
      " Categorical Features \n",
      " ['City', 'Education', 'EverBenched', 'Gender'] \n",
      "\n",
      "\n",
      " Numerical Features \n",
      " ['Age', 'ExperienceInCurrentDomain', 'JoiningYear', 'PaymentTier'] \n",
      "\n"
     ]
    }
   ],
   "source": [
    "import pandas as pd\n",
    "import numpy as np\n",
    "import streamlit as st\n",
    "from joblib import load\n",
    "import dill\n",
    "\n",
    "# Load the data from the CSV file\n",
    "data = pd.read_csv('Employeee.csv')\n",
    "\n",
    "# Print the data\n",
    "data.head()\n",
    "\n",
    "data.info()\n",
    "\n",
    "data['LeaveOrNot']=data['LeaveOrNot'].map({1:'Yes',0:'No'})\n",
    "\n",
    "# Splitting features and target variable\n",
    "X = data.drop(columns=['LeaveOrNot'])\n",
    "y = data['LeaveOrNot']\n",
    "\n",
    "categorical_features = X.select_dtypes(include=[object]).columns\n",
    "\n",
    "categorical_features= list(categorical_features.difference(['LeaveOrNot'])) \n",
    "\n",
    "print('\\n','Categorical Features','\\n', categorical_features,'\\n')\n",
    "\n",
    "numerical_features = list(X.select_dtypes(include=[np.float64,np.int64]).columns.difference(['EverBenched']))\n",
    "\n",
    "print('\\n','Numerical Features','\\n', numerical_features,'\\n')"
   ]
  },
  {
   "cell_type": "code",
   "execution_count": 4,
   "id": "691ffc59",
   "metadata": {},
   "outputs": [
    {
     "name": "stdout",
     "output_type": "stream",
     "text": [
      "Train Data \n",
      " LeaveOrNot\n",
      "No     0.656368\n",
      "Yes    0.343632\n",
      "Name: proportion, dtype: float64 \n",
      " \n",
      " Test Data \n",
      " LeaveOrNot\n",
      "No     0.655209\n",
      "Yes    0.344791\n",
      "Name: proportion, dtype: float64\n"
     ]
    }
   ],
   "source": [
    "from sklearn.model_selection import train_test_split\n",
    "\n",
    "# Splitting data into training and testing sets\n",
    "X_train, X_test, y_train, y_test = train_test_split(X, y, test_size=0.2, random_state=42)\n",
    "\n",
    "print('Train Data','\\n',y_train.value_counts(normalize=True),'\\n','\\n','Test Data','\\n', y_test.value_counts(normalize=True))"
   ]
  },
  {
   "cell_type": "code",
   "execution_count": 5,
   "id": "66c5360b",
   "metadata": {},
   "outputs": [],
   "source": [
    "def summarize_cat(data,categorical_features):\n",
    "  results=[]\n",
    "\n",
    "  for column in data[categorical_features]:\n",
    "      # Get the unique members of the column\n",
    "      members = data[column].unique().tolist()\n",
    "      # Append the column name and its unique members to the results list\n",
    "      results.append([column, members])\n",
    "\n",
    "  return pd.DataFrame(results, columns=['Column Name', 'Members'])"
   ]
  },
  {
   "cell_type": "code",
   "execution_count": 6,
   "id": "4b7586fc",
   "metadata": {},
   "outputs": [
    {
     "data": {
      "text/html": [
       "<div>\n",
       "<style scoped>\n",
       "    .dataframe tbody tr th:only-of-type {\n",
       "        vertical-align: middle;\n",
       "    }\n",
       "\n",
       "    .dataframe tbody tr th {\n",
       "        vertical-align: top;\n",
       "    }\n",
       "\n",
       "    .dataframe thead th {\n",
       "        text-align: right;\n",
       "    }\n",
       "</style>\n",
       "<table border=\"1\" class=\"dataframe\">\n",
       "  <thead>\n",
       "    <tr style=\"text-align: right;\">\n",
       "      <th></th>\n",
       "      <th>Column Name</th>\n",
       "      <th>Members</th>\n",
       "    </tr>\n",
       "  </thead>\n",
       "  <tbody>\n",
       "    <tr>\n",
       "      <th>0</th>\n",
       "      <td>City</td>\n",
       "      <td>[New Delhi, Bangalore, Pune]</td>\n",
       "    </tr>\n",
       "    <tr>\n",
       "      <th>1</th>\n",
       "      <td>Education</td>\n",
       "      <td>[Masters, Bachelors, PHD]</td>\n",
       "    </tr>\n",
       "    <tr>\n",
       "      <th>2</th>\n",
       "      <td>EverBenched</td>\n",
       "      <td>[No, Yes]</td>\n",
       "    </tr>\n",
       "    <tr>\n",
       "      <th>3</th>\n",
       "      <td>Gender</td>\n",
       "      <td>[Male, Female]</td>\n",
       "    </tr>\n",
       "  </tbody>\n",
       "</table>\n",
       "</div>"
      ],
      "text/plain": [
       "   Column Name                       Members\n",
       "0         City  [New Delhi, Bangalore, Pune]\n",
       "1    Education     [Masters, Bachelors, PHD]\n",
       "2  EverBenched                     [No, Yes]\n",
       "3       Gender                [Male, Female]"
      ]
     },
     "execution_count": 6,
     "metadata": {},
     "output_type": "execute_result"
    }
   ],
   "source": [
    "# Create a DataFrame from the results list\n",
    "summarize_cat(X_train,categorical_features)"
   ]
  },
  {
   "cell_type": "code",
   "execution_count": 7,
   "id": "b99648da",
   "metadata": {},
   "outputs": [
    {
     "data": {
      "text/plain": [
       "{'Column Name': ['Age',\n",
       "  'ExperienceInCurrentDomain',\n",
       "  'JoiningYear',\n",
       "  'PaymentTier']}"
      ]
     },
     "execution_count": 7,
     "metadata": {},
     "output_type": "execute_result"
    }
   ],
   "source": [
    "# EXPORTING FOR DE\n",
    "\n",
    "my_feature_dict = {'CATEGORICAL' : summarize_cat(data,categorical_features).to_dict(), 'NUMERICAL' : {'Column Name': numerical_features}}\n",
    "\n",
    "my_feature_dict.get('NUMERICAL')"
   ]
  },
  {
   "cell_type": "code",
   "execution_count": 8,
   "id": "19bb3f6f",
   "metadata": {},
   "outputs": [
    {
     "name": "stdout",
     "output_type": "stream",
     "text": [
      "dictionary saved successfully to file\n"
     ]
    }
   ],
   "source": [
    "import pickle\n",
    "\n",
    "# save dictionary to person_data.pkl file\n",
    "with open('my_feature_dict.pkl', 'wb') as fp:\n",
    "    pickle.dump(my_feature_dict, fp)\n",
    "    print('dictionary saved successfully to file')"
   ]
  },
  {
   "cell_type": "code",
   "execution_count": null,
   "id": "ec124cc3",
   "metadata": {},
   "outputs": [],
   "source": []
  },
  {
   "cell_type": "code",
   "execution_count": 9,
   "id": "915fd546",
   "metadata": {},
   "outputs": [],
   "source": [
    "from sklearn.pipeline import Pipeline\n",
    "\n",
    "# PREPROCESSING TRANSFORMATIONS ARE DONE ON EXAMPLE BASIS\n",
    "# REAL WORLD SELECTION OF PREPROCSSING TRANSFORMATIONS MUST BE LOGICAL\n",
    "\n",
    "transform_EverBenched = lambda x: x.assign(EverBenched=x['EverBenched'].map({1: 'Yes', 0: 'No'}))\n",
    "\n",
    "from sklearn.preprocessing import FunctionTransformer\n",
    "\n",
    "preprocessor_stage_1 = Pipeline(steps=[\n",
    "    ('transform_sc', FunctionTransformer(transform_EverBenched)),\n",
    "])\n",
    "\n",
    "from sklearn.preprocessing import StandardScaler\n",
    "from sklearn.impute import SimpleImputer\n",
    "\n",
    "pipeline_num = Pipeline(steps=[\n",
    "    ('scale_data', StandardScaler()),\n",
    "    ('simple_imputer1', SimpleImputer(strategy='constant',fill_value=0)),\n",
    "])\n",
    "\n",
    "from sklearn.preprocessing import OneHotEncoder\n",
    "\n",
    "pipeline_cat = Pipeline(steps=[\n",
    "    ('OneHotEncode', OneHotEncoder(handle_unknown=\"ignore\"))\n",
    "])\n",
    "\n",
    "from sklearn.compose import ColumnTransformer\n",
    "\n",
    "preprocessor_stage_2 = ColumnTransformer(\n",
    "    transformers=[\n",
    "        ('cat', pipeline_cat, categorical_features),  # Categorical columns\n",
    "        ('num', pipeline_num, numerical_features),     # Numerical columns\n",
    "    ],remainder='drop')\n",
    "\n",
    "preprocessor_stack = Pipeline(steps=[\n",
    "    ('preprocessor_stage_1', preprocessor_stage_1),\n",
    "    ('preprocessor_stage_2', preprocessor_stage_2)\n",
    "])"
   ]
  },
  {
   "cell_type": "code",
   "execution_count": 10,
   "id": "1ca8d2b6",
   "metadata": {},
   "outputs": [
    {
     "data": {
      "text/html": [
       "<style>#sk-container-id-1 {color: black;}#sk-container-id-1 pre{padding: 0;}#sk-container-id-1 div.sk-toggleable {background-color: white;}#sk-container-id-1 label.sk-toggleable__label {cursor: pointer;display: block;width: 100%;margin-bottom: 0;padding: 0.3em;box-sizing: border-box;text-align: center;}#sk-container-id-1 label.sk-toggleable__label-arrow:before {content: \"▸\";float: left;margin-right: 0.25em;color: #696969;}#sk-container-id-1 label.sk-toggleable__label-arrow:hover:before {color: black;}#sk-container-id-1 div.sk-estimator:hover label.sk-toggleable__label-arrow:before {color: black;}#sk-container-id-1 div.sk-toggleable__content {max-height: 0;max-width: 0;overflow: hidden;text-align: left;background-color: #f0f8ff;}#sk-container-id-1 div.sk-toggleable__content pre {margin: 0.2em;color: black;border-radius: 0.25em;background-color: #f0f8ff;}#sk-container-id-1 input.sk-toggleable__control:checked~div.sk-toggleable__content {max-height: 200px;max-width: 100%;overflow: auto;}#sk-container-id-1 input.sk-toggleable__control:checked~label.sk-toggleable__label-arrow:before {content: \"▾\";}#sk-container-id-1 div.sk-estimator input.sk-toggleable__control:checked~label.sk-toggleable__label {background-color: #d4ebff;}#sk-container-id-1 div.sk-label input.sk-toggleable__control:checked~label.sk-toggleable__label {background-color: #d4ebff;}#sk-container-id-1 input.sk-hidden--visually {border: 0;clip: rect(1px 1px 1px 1px);clip: rect(1px, 1px, 1px, 1px);height: 1px;margin: -1px;overflow: hidden;padding: 0;position: absolute;width: 1px;}#sk-container-id-1 div.sk-estimator {font-family: monospace;background-color: #f0f8ff;border: 1px dotted black;border-radius: 0.25em;box-sizing: border-box;margin-bottom: 0.5em;}#sk-container-id-1 div.sk-estimator:hover {background-color: #d4ebff;}#sk-container-id-1 div.sk-parallel-item::after {content: \"\";width: 100%;border-bottom: 1px solid gray;flex-grow: 1;}#sk-container-id-1 div.sk-label:hover label.sk-toggleable__label {background-color: #d4ebff;}#sk-container-id-1 div.sk-serial::before {content: \"\";position: absolute;border-left: 1px solid gray;box-sizing: border-box;top: 0;bottom: 0;left: 50%;z-index: 0;}#sk-container-id-1 div.sk-serial {display: flex;flex-direction: column;align-items: center;background-color: white;padding-right: 0.2em;padding-left: 0.2em;position: relative;}#sk-container-id-1 div.sk-item {position: relative;z-index: 1;}#sk-container-id-1 div.sk-parallel {display: flex;align-items: stretch;justify-content: center;background-color: white;position: relative;}#sk-container-id-1 div.sk-item::before, #sk-container-id-1 div.sk-parallel-item::before {content: \"\";position: absolute;border-left: 1px solid gray;box-sizing: border-box;top: 0;bottom: 0;left: 50%;z-index: -1;}#sk-container-id-1 div.sk-parallel-item {display: flex;flex-direction: column;z-index: 1;position: relative;background-color: white;}#sk-container-id-1 div.sk-parallel-item:first-child::after {align-self: flex-end;width: 50%;}#sk-container-id-1 div.sk-parallel-item:last-child::after {align-self: flex-start;width: 50%;}#sk-container-id-1 div.sk-parallel-item:only-child::after {width: 0;}#sk-container-id-1 div.sk-dashed-wrapped {border: 1px dashed gray;margin: 0 0.4em 0.5em 0.4em;box-sizing: border-box;padding-bottom: 0.4em;background-color: white;}#sk-container-id-1 div.sk-label label {font-family: monospace;font-weight: bold;display: inline-block;line-height: 1.2em;}#sk-container-id-1 div.sk-label-container {text-align: center;}#sk-container-id-1 div.sk-container {/* jupyter's `normalize.less` sets `[hidden] { display: none; }` but bootstrap.min.css set `[hidden] { display: none !important; }` so we also need the `!important` here to be able to override the default hidden behavior on the sphinx rendered scikit-learn.org. See: https://github.com/scikit-learn/scikit-learn/issues/21755 */display: inline-block !important;position: relative;}#sk-container-id-1 div.sk-text-repr-fallback {display: none;}</style><div id=\"sk-container-id-1\" class=\"sk-top-container\"><div class=\"sk-text-repr-fallback\"><pre>Pipeline(steps=[(&#x27;preprocessor_stage_1&#x27;,\n",
       "                 Pipeline(steps=[(&#x27;transform_sc&#x27;,\n",
       "                                  FunctionTransformer(func=&lt;function &lt;lambda&gt; at 0x000002092AC68720&gt;))])),\n",
       "                (&#x27;preprocessor_stage_2&#x27;,\n",
       "                 ColumnTransformer(transformers=[(&#x27;cat&#x27;,\n",
       "                                                  Pipeline(steps=[(&#x27;OneHotEncode&#x27;,\n",
       "                                                                   OneHotEncoder(handle_unknown=&#x27;ignore&#x27;))]),\n",
       "                                                  [&#x27;City&#x27;, &#x27;Education&#x27;,\n",
       "                                                   &#x27;EverBenched&#x27;, &#x27;Gender&#x27;]),\n",
       "                                                 (&#x27;num&#x27;,\n",
       "                                                  Pipeline(steps=[(&#x27;scale_data&#x27;,\n",
       "                                                                   StandardScaler()),\n",
       "                                                                  (&#x27;simple_imputer1&#x27;,\n",
       "                                                                   SimpleImputer(fill_value=0,\n",
       "                                                                                 strategy=&#x27;constant&#x27;))]),\n",
       "                                                  [&#x27;Age&#x27;,\n",
       "                                                   &#x27;ExperienceInCurrentDomain&#x27;,\n",
       "                                                   &#x27;JoiningYear&#x27;,\n",
       "                                                   &#x27;PaymentTier&#x27;])]))])</pre><b>In a Jupyter environment, please rerun this cell to show the HTML representation or trust the notebook. <br />On GitHub, the HTML representation is unable to render, please try loading this page with nbviewer.org.</b></div><div class=\"sk-container\" hidden><div class=\"sk-item sk-dashed-wrapped\"><div class=\"sk-label-container\"><div class=\"sk-label sk-toggleable\"><input class=\"sk-toggleable__control sk-hidden--visually\" id=\"sk-estimator-id-1\" type=\"checkbox\" ><label for=\"sk-estimator-id-1\" class=\"sk-toggleable__label sk-toggleable__label-arrow\">Pipeline</label><div class=\"sk-toggleable__content\"><pre>Pipeline(steps=[(&#x27;preprocessor_stage_1&#x27;,\n",
       "                 Pipeline(steps=[(&#x27;transform_sc&#x27;,\n",
       "                                  FunctionTransformer(func=&lt;function &lt;lambda&gt; at 0x000002092AC68720&gt;))])),\n",
       "                (&#x27;preprocessor_stage_2&#x27;,\n",
       "                 ColumnTransformer(transformers=[(&#x27;cat&#x27;,\n",
       "                                                  Pipeline(steps=[(&#x27;OneHotEncode&#x27;,\n",
       "                                                                   OneHotEncoder(handle_unknown=&#x27;ignore&#x27;))]),\n",
       "                                                  [&#x27;City&#x27;, &#x27;Education&#x27;,\n",
       "                                                   &#x27;EverBenched&#x27;, &#x27;Gender&#x27;]),\n",
       "                                                 (&#x27;num&#x27;,\n",
       "                                                  Pipeline(steps=[(&#x27;scale_data&#x27;,\n",
       "                                                                   StandardScaler()),\n",
       "                                                                  (&#x27;simple_imputer1&#x27;,\n",
       "                                                                   SimpleImputer(fill_value=0,\n",
       "                                                                                 strategy=&#x27;constant&#x27;))]),\n",
       "                                                  [&#x27;Age&#x27;,\n",
       "                                                   &#x27;ExperienceInCurrentDomain&#x27;,\n",
       "                                                   &#x27;JoiningYear&#x27;,\n",
       "                                                   &#x27;PaymentTier&#x27;])]))])</pre></div></div></div><div class=\"sk-serial\"><div class=\"sk-item\"><div class=\"sk-label-container\"><div class=\"sk-label sk-toggleable\"><input class=\"sk-toggleable__control sk-hidden--visually\" id=\"sk-estimator-id-2\" type=\"checkbox\" ><label for=\"sk-estimator-id-2\" class=\"sk-toggleable__label sk-toggleable__label-arrow\">preprocessor_stage_1: Pipeline</label><div class=\"sk-toggleable__content\"><pre>Pipeline(steps=[(&#x27;transform_sc&#x27;,\n",
       "                 FunctionTransformer(func=&lt;function &lt;lambda&gt; at 0x000002092AC68720&gt;))])</pre></div></div></div><div class=\"sk-serial\"><div class=\"sk-item\"><div class=\"sk-estimator sk-toggleable\"><input class=\"sk-toggleable__control sk-hidden--visually\" id=\"sk-estimator-id-3\" type=\"checkbox\" ><label for=\"sk-estimator-id-3\" class=\"sk-toggleable__label sk-toggleable__label-arrow\">FunctionTransformer</label><div class=\"sk-toggleable__content\"><pre>FunctionTransformer(func=&lt;function &lt;lambda&gt; at 0x000002092AC68720&gt;)</pre></div></div></div></div></div><div class=\"sk-item sk-dashed-wrapped\"><div class=\"sk-label-container\"><div class=\"sk-label sk-toggleable\"><input class=\"sk-toggleable__control sk-hidden--visually\" id=\"sk-estimator-id-4\" type=\"checkbox\" ><label for=\"sk-estimator-id-4\" class=\"sk-toggleable__label sk-toggleable__label-arrow\">preprocessor_stage_2: ColumnTransformer</label><div class=\"sk-toggleable__content\"><pre>ColumnTransformer(transformers=[(&#x27;cat&#x27;,\n",
       "                                 Pipeline(steps=[(&#x27;OneHotEncode&#x27;,\n",
       "                                                  OneHotEncoder(handle_unknown=&#x27;ignore&#x27;))]),\n",
       "                                 [&#x27;City&#x27;, &#x27;Education&#x27;, &#x27;EverBenched&#x27;,\n",
       "                                  &#x27;Gender&#x27;]),\n",
       "                                (&#x27;num&#x27;,\n",
       "                                 Pipeline(steps=[(&#x27;scale_data&#x27;,\n",
       "                                                  StandardScaler()),\n",
       "                                                 (&#x27;simple_imputer1&#x27;,\n",
       "                                                  SimpleImputer(fill_value=0,\n",
       "                                                                strategy=&#x27;constant&#x27;))]),\n",
       "                                 [&#x27;Age&#x27;, &#x27;ExperienceInCurrentDomain&#x27;,\n",
       "                                  &#x27;JoiningYear&#x27;, &#x27;PaymentTier&#x27;])])</pre></div></div></div><div class=\"sk-parallel\"><div class=\"sk-parallel-item\"><div class=\"sk-item\"><div class=\"sk-label-container\"><div class=\"sk-label sk-toggleable\"><input class=\"sk-toggleable__control sk-hidden--visually\" id=\"sk-estimator-id-5\" type=\"checkbox\" ><label for=\"sk-estimator-id-5\" class=\"sk-toggleable__label sk-toggleable__label-arrow\">cat</label><div class=\"sk-toggleable__content\"><pre>[&#x27;City&#x27;, &#x27;Education&#x27;, &#x27;EverBenched&#x27;, &#x27;Gender&#x27;]</pre></div></div></div><div class=\"sk-serial\"><div class=\"sk-item\"><div class=\"sk-serial\"><div class=\"sk-item\"><div class=\"sk-estimator sk-toggleable\"><input class=\"sk-toggleable__control sk-hidden--visually\" id=\"sk-estimator-id-6\" type=\"checkbox\" ><label for=\"sk-estimator-id-6\" class=\"sk-toggleable__label sk-toggleable__label-arrow\">OneHotEncoder</label><div class=\"sk-toggleable__content\"><pre>OneHotEncoder(handle_unknown=&#x27;ignore&#x27;)</pre></div></div></div></div></div></div></div></div><div class=\"sk-parallel-item\"><div class=\"sk-item\"><div class=\"sk-label-container\"><div class=\"sk-label sk-toggleable\"><input class=\"sk-toggleable__control sk-hidden--visually\" id=\"sk-estimator-id-7\" type=\"checkbox\" ><label for=\"sk-estimator-id-7\" class=\"sk-toggleable__label sk-toggleable__label-arrow\">num</label><div class=\"sk-toggleable__content\"><pre>[&#x27;Age&#x27;, &#x27;ExperienceInCurrentDomain&#x27;, &#x27;JoiningYear&#x27;, &#x27;PaymentTier&#x27;]</pre></div></div></div><div class=\"sk-serial\"><div class=\"sk-item\"><div class=\"sk-serial\"><div class=\"sk-item\"><div class=\"sk-estimator sk-toggleable\"><input class=\"sk-toggleable__control sk-hidden--visually\" id=\"sk-estimator-id-8\" type=\"checkbox\" ><label for=\"sk-estimator-id-8\" class=\"sk-toggleable__label sk-toggleable__label-arrow\">StandardScaler</label><div class=\"sk-toggleable__content\"><pre>StandardScaler()</pre></div></div></div><div class=\"sk-item\"><div class=\"sk-estimator sk-toggleable\"><input class=\"sk-toggleable__control sk-hidden--visually\" id=\"sk-estimator-id-9\" type=\"checkbox\" ><label for=\"sk-estimator-id-9\" class=\"sk-toggleable__label sk-toggleable__label-arrow\">SimpleImputer</label><div class=\"sk-toggleable__content\"><pre>SimpleImputer(fill_value=0, strategy=&#x27;constant&#x27;)</pre></div></div></div></div></div></div></div></div></div></div></div></div></div></div>"
      ],
      "text/plain": [
       "Pipeline(steps=[('preprocessor_stage_1',\n",
       "                 Pipeline(steps=[('transform_sc',\n",
       "                                  FunctionTransformer(func=<function <lambda> at 0x000002092AC68720>))])),\n",
       "                ('preprocessor_stage_2',\n",
       "                 ColumnTransformer(transformers=[('cat',\n",
       "                                                  Pipeline(steps=[('OneHotEncode',\n",
       "                                                                   OneHotEncoder(handle_unknown='ignore'))]),\n",
       "                                                  ['City', 'Education',\n",
       "                                                   'EverBenched', 'Gender']),\n",
       "                                                 ('num',\n",
       "                                                  Pipeline(steps=[('scale_data',\n",
       "                                                                   StandardScaler()),\n",
       "                                                                  ('simple_imputer1',\n",
       "                                                                   SimpleImputer(fill_value=0,\n",
       "                                                                                 strategy='constant'))]),\n",
       "                                                  ['Age',\n",
       "                                                   'ExperienceInCurrentDomain',\n",
       "                                                   'JoiningYear',\n",
       "                                                   'PaymentTier'])]))])"
      ]
     },
     "execution_count": 10,
     "metadata": {},
     "output_type": "execute_result"
    }
   ],
   "source": [
    "preprocessor_stack"
   ]
  },
  {
   "cell_type": "code",
   "execution_count": 11,
   "id": "4e7a0a00",
   "metadata": {},
   "outputs": [
    {
     "data": {
      "text/plain": [
       "EverBenched\n",
       "No     3349\n",
       "Yes     373\n",
       "Name: count, dtype: int64"
      ]
     },
     "execution_count": 11,
     "metadata": {},
     "output_type": "execute_result"
    }
   ],
   "source": [
    "X_train.EverBenched.value_counts()"
   ]
  },
  {
   "cell_type": "code",
   "execution_count": 12,
   "id": "d9816584",
   "metadata": {},
   "outputs": [
    {
     "data": {
      "text/plain": [
       "Series([], Name: count, dtype: int64)"
      ]
     },
     "execution_count": 12,
     "metadata": {},
     "output_type": "execute_result"
    }
   ],
   "source": [
    "preprocessor_stage_1.fit_transform(X_train).EverBenched.value_counts()"
   ]
  },
  {
   "cell_type": "code",
   "execution_count": 13,
   "id": "d60edd50",
   "metadata": {
    "scrolled": false
   },
   "outputs": [
    {
     "data": {
      "text/html": [
       "<style>#sk-container-id-2 {color: black;}#sk-container-id-2 pre{padding: 0;}#sk-container-id-2 div.sk-toggleable {background-color: white;}#sk-container-id-2 label.sk-toggleable__label {cursor: pointer;display: block;width: 100%;margin-bottom: 0;padding: 0.3em;box-sizing: border-box;text-align: center;}#sk-container-id-2 label.sk-toggleable__label-arrow:before {content: \"▸\";float: left;margin-right: 0.25em;color: #696969;}#sk-container-id-2 label.sk-toggleable__label-arrow:hover:before {color: black;}#sk-container-id-2 div.sk-estimator:hover label.sk-toggleable__label-arrow:before {color: black;}#sk-container-id-2 div.sk-toggleable__content {max-height: 0;max-width: 0;overflow: hidden;text-align: left;background-color: #f0f8ff;}#sk-container-id-2 div.sk-toggleable__content pre {margin: 0.2em;color: black;border-radius: 0.25em;background-color: #f0f8ff;}#sk-container-id-2 input.sk-toggleable__control:checked~div.sk-toggleable__content {max-height: 200px;max-width: 100%;overflow: auto;}#sk-container-id-2 input.sk-toggleable__control:checked~label.sk-toggleable__label-arrow:before {content: \"▾\";}#sk-container-id-2 div.sk-estimator input.sk-toggleable__control:checked~label.sk-toggleable__label {background-color: #d4ebff;}#sk-container-id-2 div.sk-label input.sk-toggleable__control:checked~label.sk-toggleable__label {background-color: #d4ebff;}#sk-container-id-2 input.sk-hidden--visually {border: 0;clip: rect(1px 1px 1px 1px);clip: rect(1px, 1px, 1px, 1px);height: 1px;margin: -1px;overflow: hidden;padding: 0;position: absolute;width: 1px;}#sk-container-id-2 div.sk-estimator {font-family: monospace;background-color: #f0f8ff;border: 1px dotted black;border-radius: 0.25em;box-sizing: border-box;margin-bottom: 0.5em;}#sk-container-id-2 div.sk-estimator:hover {background-color: #d4ebff;}#sk-container-id-2 div.sk-parallel-item::after {content: \"\";width: 100%;border-bottom: 1px solid gray;flex-grow: 1;}#sk-container-id-2 div.sk-label:hover label.sk-toggleable__label {background-color: #d4ebff;}#sk-container-id-2 div.sk-serial::before {content: \"\";position: absolute;border-left: 1px solid gray;box-sizing: border-box;top: 0;bottom: 0;left: 50%;z-index: 0;}#sk-container-id-2 div.sk-serial {display: flex;flex-direction: column;align-items: center;background-color: white;padding-right: 0.2em;padding-left: 0.2em;position: relative;}#sk-container-id-2 div.sk-item {position: relative;z-index: 1;}#sk-container-id-2 div.sk-parallel {display: flex;align-items: stretch;justify-content: center;background-color: white;position: relative;}#sk-container-id-2 div.sk-item::before, #sk-container-id-2 div.sk-parallel-item::before {content: \"\";position: absolute;border-left: 1px solid gray;box-sizing: border-box;top: 0;bottom: 0;left: 50%;z-index: -1;}#sk-container-id-2 div.sk-parallel-item {display: flex;flex-direction: column;z-index: 1;position: relative;background-color: white;}#sk-container-id-2 div.sk-parallel-item:first-child::after {align-self: flex-end;width: 50%;}#sk-container-id-2 div.sk-parallel-item:last-child::after {align-self: flex-start;width: 50%;}#sk-container-id-2 div.sk-parallel-item:only-child::after {width: 0;}#sk-container-id-2 div.sk-dashed-wrapped {border: 1px dashed gray;margin: 0 0.4em 0.5em 0.4em;box-sizing: border-box;padding-bottom: 0.4em;background-color: white;}#sk-container-id-2 div.sk-label label {font-family: monospace;font-weight: bold;display: inline-block;line-height: 1.2em;}#sk-container-id-2 div.sk-label-container {text-align: center;}#sk-container-id-2 div.sk-container {/* jupyter's `normalize.less` sets `[hidden] { display: none; }` but bootstrap.min.css set `[hidden] { display: none !important; }` so we also need the `!important` here to be able to override the default hidden behavior on the sphinx rendered scikit-learn.org. See: https://github.com/scikit-learn/scikit-learn/issues/21755 */display: inline-block !important;position: relative;}#sk-container-id-2 div.sk-text-repr-fallback {display: none;}</style><div id=\"sk-container-id-2\" class=\"sk-top-container\"><div class=\"sk-text-repr-fallback\"><pre>Pipeline(steps=[(&#x27;preprocessor_stage_1&#x27;,\n",
       "                 Pipeline(steps=[(&#x27;transform_sc&#x27;,\n",
       "                                  FunctionTransformer(func=&lt;function &lt;lambda&gt; at 0x000002092AC68720&gt;))])),\n",
       "                (&#x27;preprocessor_stage_2&#x27;,\n",
       "                 ColumnTransformer(transformers=[(&#x27;cat&#x27;,\n",
       "                                                  Pipeline(steps=[(&#x27;OneHotEncode&#x27;,\n",
       "                                                                   OneHotEncoder(handle_unknown=&#x27;ignore&#x27;))]),\n",
       "                                                  [&#x27;City&#x27;, &#x27;Education&#x27;,\n",
       "                                                   &#x27;EverBenched&#x27;, &#x27;Gender&#x27;]),\n",
       "                                                 (&#x27;num&#x27;,\n",
       "                                                  Pipeline(steps=[(&#x27;scale_data&#x27;,\n",
       "                                                                   StandardScaler()),\n",
       "                                                                  (&#x27;simple_imputer1&#x27;,\n",
       "                                                                   SimpleImputer(fill_value=0,\n",
       "                                                                                 strategy=&#x27;constant&#x27;))]),\n",
       "                                                  [&#x27;Age&#x27;,\n",
       "                                                   &#x27;ExperienceInCurrentDomain&#x27;,\n",
       "                                                   &#x27;JoiningYear&#x27;,\n",
       "                                                   &#x27;PaymentTier&#x27;])]))])</pre><b>In a Jupyter environment, please rerun this cell to show the HTML representation or trust the notebook. <br />On GitHub, the HTML representation is unable to render, please try loading this page with nbviewer.org.</b></div><div class=\"sk-container\" hidden><div class=\"sk-item sk-dashed-wrapped\"><div class=\"sk-label-container\"><div class=\"sk-label sk-toggleable\"><input class=\"sk-toggleable__control sk-hidden--visually\" id=\"sk-estimator-id-10\" type=\"checkbox\" ><label for=\"sk-estimator-id-10\" class=\"sk-toggleable__label sk-toggleable__label-arrow\">Pipeline</label><div class=\"sk-toggleable__content\"><pre>Pipeline(steps=[(&#x27;preprocessor_stage_1&#x27;,\n",
       "                 Pipeline(steps=[(&#x27;transform_sc&#x27;,\n",
       "                                  FunctionTransformer(func=&lt;function &lt;lambda&gt; at 0x000002092AC68720&gt;))])),\n",
       "                (&#x27;preprocessor_stage_2&#x27;,\n",
       "                 ColumnTransformer(transformers=[(&#x27;cat&#x27;,\n",
       "                                                  Pipeline(steps=[(&#x27;OneHotEncode&#x27;,\n",
       "                                                                   OneHotEncoder(handle_unknown=&#x27;ignore&#x27;))]),\n",
       "                                                  [&#x27;City&#x27;, &#x27;Education&#x27;,\n",
       "                                                   &#x27;EverBenched&#x27;, &#x27;Gender&#x27;]),\n",
       "                                                 (&#x27;num&#x27;,\n",
       "                                                  Pipeline(steps=[(&#x27;scale_data&#x27;,\n",
       "                                                                   StandardScaler()),\n",
       "                                                                  (&#x27;simple_imputer1&#x27;,\n",
       "                                                                   SimpleImputer(fill_value=0,\n",
       "                                                                                 strategy=&#x27;constant&#x27;))]),\n",
       "                                                  [&#x27;Age&#x27;,\n",
       "                                                   &#x27;ExperienceInCurrentDomain&#x27;,\n",
       "                                                   &#x27;JoiningYear&#x27;,\n",
       "                                                   &#x27;PaymentTier&#x27;])]))])</pre></div></div></div><div class=\"sk-serial\"><div class=\"sk-item\"><div class=\"sk-label-container\"><div class=\"sk-label sk-toggleable\"><input class=\"sk-toggleable__control sk-hidden--visually\" id=\"sk-estimator-id-11\" type=\"checkbox\" ><label for=\"sk-estimator-id-11\" class=\"sk-toggleable__label sk-toggleable__label-arrow\">preprocessor_stage_1: Pipeline</label><div class=\"sk-toggleable__content\"><pre>Pipeline(steps=[(&#x27;transform_sc&#x27;,\n",
       "                 FunctionTransformer(func=&lt;function &lt;lambda&gt; at 0x000002092AC68720&gt;))])</pre></div></div></div><div class=\"sk-serial\"><div class=\"sk-item\"><div class=\"sk-estimator sk-toggleable\"><input class=\"sk-toggleable__control sk-hidden--visually\" id=\"sk-estimator-id-12\" type=\"checkbox\" ><label for=\"sk-estimator-id-12\" class=\"sk-toggleable__label sk-toggleable__label-arrow\">FunctionTransformer</label><div class=\"sk-toggleable__content\"><pre>FunctionTransformer(func=&lt;function &lt;lambda&gt; at 0x000002092AC68720&gt;)</pre></div></div></div></div></div><div class=\"sk-item sk-dashed-wrapped\"><div class=\"sk-label-container\"><div class=\"sk-label sk-toggleable\"><input class=\"sk-toggleable__control sk-hidden--visually\" id=\"sk-estimator-id-13\" type=\"checkbox\" ><label for=\"sk-estimator-id-13\" class=\"sk-toggleable__label sk-toggleable__label-arrow\">preprocessor_stage_2: ColumnTransformer</label><div class=\"sk-toggleable__content\"><pre>ColumnTransformer(transformers=[(&#x27;cat&#x27;,\n",
       "                                 Pipeline(steps=[(&#x27;OneHotEncode&#x27;,\n",
       "                                                  OneHotEncoder(handle_unknown=&#x27;ignore&#x27;))]),\n",
       "                                 [&#x27;City&#x27;, &#x27;Education&#x27;, &#x27;EverBenched&#x27;,\n",
       "                                  &#x27;Gender&#x27;]),\n",
       "                                (&#x27;num&#x27;,\n",
       "                                 Pipeline(steps=[(&#x27;scale_data&#x27;,\n",
       "                                                  StandardScaler()),\n",
       "                                                 (&#x27;simple_imputer1&#x27;,\n",
       "                                                  SimpleImputer(fill_value=0,\n",
       "                                                                strategy=&#x27;constant&#x27;))]),\n",
       "                                 [&#x27;Age&#x27;, &#x27;ExperienceInCurrentDomain&#x27;,\n",
       "                                  &#x27;JoiningYear&#x27;, &#x27;PaymentTier&#x27;])])</pre></div></div></div><div class=\"sk-parallel\"><div class=\"sk-parallel-item\"><div class=\"sk-item\"><div class=\"sk-label-container\"><div class=\"sk-label sk-toggleable\"><input class=\"sk-toggleable__control sk-hidden--visually\" id=\"sk-estimator-id-14\" type=\"checkbox\" ><label for=\"sk-estimator-id-14\" class=\"sk-toggleable__label sk-toggleable__label-arrow\">cat</label><div class=\"sk-toggleable__content\"><pre>[&#x27;City&#x27;, &#x27;Education&#x27;, &#x27;EverBenched&#x27;, &#x27;Gender&#x27;]</pre></div></div></div><div class=\"sk-serial\"><div class=\"sk-item\"><div class=\"sk-serial\"><div class=\"sk-item\"><div class=\"sk-estimator sk-toggleable\"><input class=\"sk-toggleable__control sk-hidden--visually\" id=\"sk-estimator-id-15\" type=\"checkbox\" ><label for=\"sk-estimator-id-15\" class=\"sk-toggleable__label sk-toggleable__label-arrow\">OneHotEncoder</label><div class=\"sk-toggleable__content\"><pre>OneHotEncoder(handle_unknown=&#x27;ignore&#x27;)</pre></div></div></div></div></div></div></div></div><div class=\"sk-parallel-item\"><div class=\"sk-item\"><div class=\"sk-label-container\"><div class=\"sk-label sk-toggleable\"><input class=\"sk-toggleable__control sk-hidden--visually\" id=\"sk-estimator-id-16\" type=\"checkbox\" ><label for=\"sk-estimator-id-16\" class=\"sk-toggleable__label sk-toggleable__label-arrow\">num</label><div class=\"sk-toggleable__content\"><pre>[&#x27;Age&#x27;, &#x27;ExperienceInCurrentDomain&#x27;, &#x27;JoiningYear&#x27;, &#x27;PaymentTier&#x27;]</pre></div></div></div><div class=\"sk-serial\"><div class=\"sk-item\"><div class=\"sk-serial\"><div class=\"sk-item\"><div class=\"sk-estimator sk-toggleable\"><input class=\"sk-toggleable__control sk-hidden--visually\" id=\"sk-estimator-id-17\" type=\"checkbox\" ><label for=\"sk-estimator-id-17\" class=\"sk-toggleable__label sk-toggleable__label-arrow\">StandardScaler</label><div class=\"sk-toggleable__content\"><pre>StandardScaler()</pre></div></div></div><div class=\"sk-item\"><div class=\"sk-estimator sk-toggleable\"><input class=\"sk-toggleable__control sk-hidden--visually\" id=\"sk-estimator-id-18\" type=\"checkbox\" ><label for=\"sk-estimator-id-18\" class=\"sk-toggleable__label sk-toggleable__label-arrow\">SimpleImputer</label><div class=\"sk-toggleable__content\"><pre>SimpleImputer(fill_value=0, strategy=&#x27;constant&#x27;)</pre></div></div></div></div></div></div></div></div></div></div></div></div></div></div>"
      ],
      "text/plain": [
       "Pipeline(steps=[('preprocessor_stage_1',\n",
       "                 Pipeline(steps=[('transform_sc',\n",
       "                                  FunctionTransformer(func=<function <lambda> at 0x000002092AC68720>))])),\n",
       "                ('preprocessor_stage_2',\n",
       "                 ColumnTransformer(transformers=[('cat',\n",
       "                                                  Pipeline(steps=[('OneHotEncode',\n",
       "                                                                   OneHotEncoder(handle_unknown='ignore'))]),\n",
       "                                                  ['City', 'Education',\n",
       "                                                   'EverBenched', 'Gender']),\n",
       "                                                 ('num',\n",
       "                                                  Pipeline(steps=[('scale_data',\n",
       "                                                                   StandardScaler()),\n",
       "                                                                  ('simple_imputer1',\n",
       "                                                                   SimpleImputer(fill_value=0,\n",
       "                                                                                 strategy='constant'))]),\n",
       "                                                  ['Age',\n",
       "                                                   'ExperienceInCurrentDomain',\n",
       "                                                   'JoiningYear',\n",
       "                                                   'PaymentTier'])]))])"
      ]
     },
     "execution_count": 13,
     "metadata": {},
     "output_type": "execute_result"
    }
   ],
   "source": [
    "preprocessor_stack.fit(X_train)"
   ]
  },
  {
   "cell_type": "code",
   "execution_count": 14,
   "id": "82175e9d",
   "metadata": {},
   "outputs": [
    {
     "data": {
      "text/html": [
       "<div>\n",
       "<style scoped>\n",
       "    .dataframe tbody tr th:only-of-type {\n",
       "        vertical-align: middle;\n",
       "    }\n",
       "\n",
       "    .dataframe tbody tr th {\n",
       "        vertical-align: top;\n",
       "    }\n",
       "\n",
       "    .dataframe thead th {\n",
       "        text-align: right;\n",
       "    }\n",
       "</style>\n",
       "<table border=\"1\" class=\"dataframe\">\n",
       "  <thead>\n",
       "    <tr style=\"text-align: right;\">\n",
       "      <th></th>\n",
       "      <th>cat__City_Bangalore</th>\n",
       "      <th>cat__City_New Delhi</th>\n",
       "      <th>cat__City_Pune</th>\n",
       "      <th>cat__Education_Bachelors</th>\n",
       "      <th>cat__Education_Masters</th>\n",
       "      <th>cat__Education_PHD</th>\n",
       "      <th>cat__EverBenched_nan</th>\n",
       "      <th>cat__Gender_Female</th>\n",
       "      <th>cat__Gender_Male</th>\n",
       "      <th>num__Age</th>\n",
       "      <th>num__ExperienceInCurrentDomain</th>\n",
       "      <th>num__JoiningYear</th>\n",
       "      <th>num__PaymentTier</th>\n",
       "    </tr>\n",
       "  </thead>\n",
       "  <tbody>\n",
       "    <tr>\n",
       "      <th>0</th>\n",
       "      <td>0.0</td>\n",
       "      <td>1.0</td>\n",
       "      <td>0.0</td>\n",
       "      <td>0.0</td>\n",
       "      <td>1.0</td>\n",
       "      <td>0.0</td>\n",
       "      <td>1.0</td>\n",
       "      <td>0.0</td>\n",
       "      <td>1.0</td>\n",
       "      <td>0.117526</td>\n",
       "      <td>-1.861550</td>\n",
       "      <td>-1.109740</td>\n",
       "      <td>0.539424</td>\n",
       "    </tr>\n",
       "    <tr>\n",
       "      <th>1</th>\n",
       "      <td>1.0</td>\n",
       "      <td>0.0</td>\n",
       "      <td>0.0</td>\n",
       "      <td>1.0</td>\n",
       "      <td>0.0</td>\n",
       "      <td>0.0</td>\n",
       "      <td>1.0</td>\n",
       "      <td>0.0</td>\n",
       "      <td>1.0</td>\n",
       "      <td>-0.914641</td>\n",
       "      <td>0.061305</td>\n",
       "      <td>-1.645675</td>\n",
       "      <td>0.539424</td>\n",
       "    </tr>\n",
       "    <tr>\n",
       "      <th>2</th>\n",
       "      <td>0.0</td>\n",
       "      <td>0.0</td>\n",
       "      <td>1.0</td>\n",
       "      <td>0.0</td>\n",
       "      <td>1.0</td>\n",
       "      <td>0.0</td>\n",
       "      <td>1.0</td>\n",
       "      <td>0.0</td>\n",
       "      <td>1.0</td>\n",
       "      <td>-0.088907</td>\n",
       "      <td>-0.579646</td>\n",
       "      <td>1.034001</td>\n",
       "      <td>-1.226396</td>\n",
       "    </tr>\n",
       "    <tr>\n",
       "      <th>3</th>\n",
       "      <td>0.0</td>\n",
       "      <td>0.0</td>\n",
       "      <td>1.0</td>\n",
       "      <td>0.0</td>\n",
       "      <td>1.0</td>\n",
       "      <td>0.0</td>\n",
       "      <td>1.0</td>\n",
       "      <td>0.0</td>\n",
       "      <td>1.0</td>\n",
       "      <td>-1.121074</td>\n",
       "      <td>-0.579646</td>\n",
       "      <td>-1.645675</td>\n",
       "      <td>0.539424</td>\n",
       "    </tr>\n",
       "    <tr>\n",
       "      <th>4</th>\n",
       "      <td>0.0</td>\n",
       "      <td>1.0</td>\n",
       "      <td>0.0</td>\n",
       "      <td>0.0</td>\n",
       "      <td>1.0</td>\n",
       "      <td>0.0</td>\n",
       "      <td>1.0</td>\n",
       "      <td>0.0</td>\n",
       "      <td>1.0</td>\n",
       "      <td>1.149693</td>\n",
       "      <td>-0.579646</td>\n",
       "      <td>1.034001</td>\n",
       "      <td>-1.226396</td>\n",
       "    </tr>\n",
       "    <tr>\n",
       "      <th>...</th>\n",
       "      <td>...</td>\n",
       "      <td>...</td>\n",
       "      <td>...</td>\n",
       "      <td>...</td>\n",
       "      <td>...</td>\n",
       "      <td>...</td>\n",
       "      <td>...</td>\n",
       "      <td>...</td>\n",
       "      <td>...</td>\n",
       "      <td>...</td>\n",
       "      <td>...</td>\n",
       "      <td>...</td>\n",
       "      <td>...</td>\n",
       "    </tr>\n",
       "    <tr>\n",
       "      <th>3717</th>\n",
       "      <td>1.0</td>\n",
       "      <td>0.0</td>\n",
       "      <td>0.0</td>\n",
       "      <td>1.0</td>\n",
       "      <td>0.0</td>\n",
       "      <td>0.0</td>\n",
       "      <td>1.0</td>\n",
       "      <td>0.0</td>\n",
       "      <td>1.0</td>\n",
       "      <td>0.530393</td>\n",
       "      <td>-1.220598</td>\n",
       "      <td>-0.573805</td>\n",
       "      <td>0.539424</td>\n",
       "    </tr>\n",
       "    <tr>\n",
       "      <th>3718</th>\n",
       "      <td>1.0</td>\n",
       "      <td>0.0</td>\n",
       "      <td>0.0</td>\n",
       "      <td>1.0</td>\n",
       "      <td>0.0</td>\n",
       "      <td>0.0</td>\n",
       "      <td>1.0</td>\n",
       "      <td>0.0</td>\n",
       "      <td>1.0</td>\n",
       "      <td>-0.708208</td>\n",
       "      <td>0.702257</td>\n",
       "      <td>-1.109740</td>\n",
       "      <td>0.539424</td>\n",
       "    </tr>\n",
       "    <tr>\n",
       "      <th>3719</th>\n",
       "      <td>1.0</td>\n",
       "      <td>0.0</td>\n",
       "      <td>0.0</td>\n",
       "      <td>1.0</td>\n",
       "      <td>0.0</td>\n",
       "      <td>0.0</td>\n",
       "      <td>1.0</td>\n",
       "      <td>1.0</td>\n",
       "      <td>0.0</td>\n",
       "      <td>1.975427</td>\n",
       "      <td>-1.220598</td>\n",
       "      <td>0.498065</td>\n",
       "      <td>0.539424</td>\n",
       "    </tr>\n",
       "    <tr>\n",
       "      <th>3720</th>\n",
       "      <td>1.0</td>\n",
       "      <td>0.0</td>\n",
       "      <td>0.0</td>\n",
       "      <td>1.0</td>\n",
       "      <td>0.0</td>\n",
       "      <td>0.0</td>\n",
       "      <td>1.0</td>\n",
       "      <td>0.0</td>\n",
       "      <td>1.0</td>\n",
       "      <td>2.388294</td>\n",
       "      <td>-1.220598</td>\n",
       "      <td>-0.037870</td>\n",
       "      <td>0.539424</td>\n",
       "    </tr>\n",
       "    <tr>\n",
       "      <th>3721</th>\n",
       "      <td>1.0</td>\n",
       "      <td>0.0</td>\n",
       "      <td>0.0</td>\n",
       "      <td>1.0</td>\n",
       "      <td>0.0</td>\n",
       "      <td>0.0</td>\n",
       "      <td>1.0</td>\n",
       "      <td>0.0</td>\n",
       "      <td>1.0</td>\n",
       "      <td>-0.501774</td>\n",
       "      <td>1.343209</td>\n",
       "      <td>-0.037870</td>\n",
       "      <td>0.539424</td>\n",
       "    </tr>\n",
       "  </tbody>\n",
       "</table>\n",
       "<p>3722 rows × 13 columns</p>\n",
       "</div>"
      ],
      "text/plain": [
       "      cat__City_Bangalore  cat__City_New Delhi  cat__City_Pune  \\\n",
       "0                     0.0                  1.0             0.0   \n",
       "1                     1.0                  0.0             0.0   \n",
       "2                     0.0                  0.0             1.0   \n",
       "3                     0.0                  0.0             1.0   \n",
       "4                     0.0                  1.0             0.0   \n",
       "...                   ...                  ...             ...   \n",
       "3717                  1.0                  0.0             0.0   \n",
       "3718                  1.0                  0.0             0.0   \n",
       "3719                  1.0                  0.0             0.0   \n",
       "3720                  1.0                  0.0             0.0   \n",
       "3721                  1.0                  0.0             0.0   \n",
       "\n",
       "      cat__Education_Bachelors  cat__Education_Masters  cat__Education_PHD  \\\n",
       "0                          0.0                     1.0                 0.0   \n",
       "1                          1.0                     0.0                 0.0   \n",
       "2                          0.0                     1.0                 0.0   \n",
       "3                          0.0                     1.0                 0.0   \n",
       "4                          0.0                     1.0                 0.0   \n",
       "...                        ...                     ...                 ...   \n",
       "3717                       1.0                     0.0                 0.0   \n",
       "3718                       1.0                     0.0                 0.0   \n",
       "3719                       1.0                     0.0                 0.0   \n",
       "3720                       1.0                     0.0                 0.0   \n",
       "3721                       1.0                     0.0                 0.0   \n",
       "\n",
       "      cat__EverBenched_nan  cat__Gender_Female  cat__Gender_Male  num__Age  \\\n",
       "0                      1.0                 0.0               1.0  0.117526   \n",
       "1                      1.0                 0.0               1.0 -0.914641   \n",
       "2                      1.0                 0.0               1.0 -0.088907   \n",
       "3                      1.0                 0.0               1.0 -1.121074   \n",
       "4                      1.0                 0.0               1.0  1.149693   \n",
       "...                    ...                 ...               ...       ...   \n",
       "3717                   1.0                 0.0               1.0  0.530393   \n",
       "3718                   1.0                 0.0               1.0 -0.708208   \n",
       "3719                   1.0                 1.0               0.0  1.975427   \n",
       "3720                   1.0                 0.0               1.0  2.388294   \n",
       "3721                   1.0                 0.0               1.0 -0.501774   \n",
       "\n",
       "      num__ExperienceInCurrentDomain  num__JoiningYear  num__PaymentTier  \n",
       "0                          -1.861550         -1.109740          0.539424  \n",
       "1                           0.061305         -1.645675          0.539424  \n",
       "2                          -0.579646          1.034001         -1.226396  \n",
       "3                          -0.579646         -1.645675          0.539424  \n",
       "4                          -0.579646          1.034001         -1.226396  \n",
       "...                              ...               ...               ...  \n",
       "3717                       -1.220598         -0.573805          0.539424  \n",
       "3718                        0.702257         -1.109740          0.539424  \n",
       "3719                       -1.220598          0.498065          0.539424  \n",
       "3720                       -1.220598         -0.037870          0.539424  \n",
       "3721                        1.343209         -0.037870          0.539424  \n",
       "\n",
       "[3722 rows x 13 columns]"
      ]
     },
     "execution_count": 14,
     "metadata": {},
     "output_type": "execute_result"
    }
   ],
   "source": [
    "pd.DataFrame(preprocessor_stack.transform(X_train),columns=preprocessor_stack[-1].get_feature_names_out())"
   ]
  },
  {
   "cell_type": "code",
   "execution_count": 15,
   "id": "bd9e5c07",
   "metadata": {},
   "outputs": [
    {
     "data": {
      "text/html": [
       "<style>#sk-container-id-3 {color: black;}#sk-container-id-3 pre{padding: 0;}#sk-container-id-3 div.sk-toggleable {background-color: white;}#sk-container-id-3 label.sk-toggleable__label {cursor: pointer;display: block;width: 100%;margin-bottom: 0;padding: 0.3em;box-sizing: border-box;text-align: center;}#sk-container-id-3 label.sk-toggleable__label-arrow:before {content: \"▸\";float: left;margin-right: 0.25em;color: #696969;}#sk-container-id-3 label.sk-toggleable__label-arrow:hover:before {color: black;}#sk-container-id-3 div.sk-estimator:hover label.sk-toggleable__label-arrow:before {color: black;}#sk-container-id-3 div.sk-toggleable__content {max-height: 0;max-width: 0;overflow: hidden;text-align: left;background-color: #f0f8ff;}#sk-container-id-3 div.sk-toggleable__content pre {margin: 0.2em;color: black;border-radius: 0.25em;background-color: #f0f8ff;}#sk-container-id-3 input.sk-toggleable__control:checked~div.sk-toggleable__content {max-height: 200px;max-width: 100%;overflow: auto;}#sk-container-id-3 input.sk-toggleable__control:checked~label.sk-toggleable__label-arrow:before {content: \"▾\";}#sk-container-id-3 div.sk-estimator input.sk-toggleable__control:checked~label.sk-toggleable__label {background-color: #d4ebff;}#sk-container-id-3 div.sk-label input.sk-toggleable__control:checked~label.sk-toggleable__label {background-color: #d4ebff;}#sk-container-id-3 input.sk-hidden--visually {border: 0;clip: rect(1px 1px 1px 1px);clip: rect(1px, 1px, 1px, 1px);height: 1px;margin: -1px;overflow: hidden;padding: 0;position: absolute;width: 1px;}#sk-container-id-3 div.sk-estimator {font-family: monospace;background-color: #f0f8ff;border: 1px dotted black;border-radius: 0.25em;box-sizing: border-box;margin-bottom: 0.5em;}#sk-container-id-3 div.sk-estimator:hover {background-color: #d4ebff;}#sk-container-id-3 div.sk-parallel-item::after {content: \"\";width: 100%;border-bottom: 1px solid gray;flex-grow: 1;}#sk-container-id-3 div.sk-label:hover label.sk-toggleable__label {background-color: #d4ebff;}#sk-container-id-3 div.sk-serial::before {content: \"\";position: absolute;border-left: 1px solid gray;box-sizing: border-box;top: 0;bottom: 0;left: 50%;z-index: 0;}#sk-container-id-3 div.sk-serial {display: flex;flex-direction: column;align-items: center;background-color: white;padding-right: 0.2em;padding-left: 0.2em;position: relative;}#sk-container-id-3 div.sk-item {position: relative;z-index: 1;}#sk-container-id-3 div.sk-parallel {display: flex;align-items: stretch;justify-content: center;background-color: white;position: relative;}#sk-container-id-3 div.sk-item::before, #sk-container-id-3 div.sk-parallel-item::before {content: \"\";position: absolute;border-left: 1px solid gray;box-sizing: border-box;top: 0;bottom: 0;left: 50%;z-index: -1;}#sk-container-id-3 div.sk-parallel-item {display: flex;flex-direction: column;z-index: 1;position: relative;background-color: white;}#sk-container-id-3 div.sk-parallel-item:first-child::after {align-self: flex-end;width: 50%;}#sk-container-id-3 div.sk-parallel-item:last-child::after {align-self: flex-start;width: 50%;}#sk-container-id-3 div.sk-parallel-item:only-child::after {width: 0;}#sk-container-id-3 div.sk-dashed-wrapped {border: 1px dashed gray;margin: 0 0.4em 0.5em 0.4em;box-sizing: border-box;padding-bottom: 0.4em;background-color: white;}#sk-container-id-3 div.sk-label label {font-family: monospace;font-weight: bold;display: inline-block;line-height: 1.2em;}#sk-container-id-3 div.sk-label-container {text-align: center;}#sk-container-id-3 div.sk-container {/* jupyter's `normalize.less` sets `[hidden] { display: none; }` but bootstrap.min.css set `[hidden] { display: none !important; }` so we also need the `!important` here to be able to override the default hidden behavior on the sphinx rendered scikit-learn.org. See: https://github.com/scikit-learn/scikit-learn/issues/21755 */display: inline-block !important;position: relative;}#sk-container-id-3 div.sk-text-repr-fallback {display: none;}</style><div id=\"sk-container-id-3\" class=\"sk-top-container\"><div class=\"sk-text-repr-fallback\"><pre>Pipeline(steps=[(&#x27;preprocessor&#x27;,\n",
       "                 Pipeline(steps=[(&#x27;preprocessor_stage_1&#x27;,\n",
       "                                  Pipeline(steps=[(&#x27;transform_sc&#x27;,\n",
       "                                                   FunctionTransformer(func=&lt;function &lt;lambda&gt; at 0x000002092AC68720&gt;))])),\n",
       "                                 (&#x27;preprocessor_stage_2&#x27;,\n",
       "                                  ColumnTransformer(transformers=[(&#x27;cat&#x27;,\n",
       "                                                                   Pipeline(steps=[(&#x27;OneHotEncode&#x27;,\n",
       "                                                                                    OneHotEncoder(handle_unknown=&#x27;ignore&#x27;))]),\n",
       "                                                                   [&#x27;City&#x27;,\n",
       "                                                                    &#x27;Education&#x27;,\n",
       "                                                                    &#x27;EverBenched&#x27;,\n",
       "                                                                    &#x27;Gender&#x27;]),\n",
       "                                                                  (&#x27;num&#x27;,\n",
       "                                                                   Pipeline(steps=[(&#x27;scale_data&#x27;,\n",
       "                                                                                    StandardScaler()),\n",
       "                                                                                   (&#x27;simple_imputer1&#x27;,\n",
       "                                                                                    SimpleImputer(fill_value=0,\n",
       "                                                                                                  strategy=&#x27;constant&#x27;))]),\n",
       "                                                                   [&#x27;Age&#x27;,\n",
       "                                                                    &#x27;ExperienceInCurrentDomain&#x27;,\n",
       "                                                                    &#x27;JoiningYear&#x27;,\n",
       "                                                                    &#x27;PaymentTier&#x27;])]))])),\n",
       "                (&#x27;classifier&#x27;, RandomForestClassifier())])</pre><b>In a Jupyter environment, please rerun this cell to show the HTML representation or trust the notebook. <br />On GitHub, the HTML representation is unable to render, please try loading this page with nbviewer.org.</b></div><div class=\"sk-container\" hidden><div class=\"sk-item sk-dashed-wrapped\"><div class=\"sk-label-container\"><div class=\"sk-label sk-toggleable\"><input class=\"sk-toggleable__control sk-hidden--visually\" id=\"sk-estimator-id-19\" type=\"checkbox\" ><label for=\"sk-estimator-id-19\" class=\"sk-toggleable__label sk-toggleable__label-arrow\">Pipeline</label><div class=\"sk-toggleable__content\"><pre>Pipeline(steps=[(&#x27;preprocessor&#x27;,\n",
       "                 Pipeline(steps=[(&#x27;preprocessor_stage_1&#x27;,\n",
       "                                  Pipeline(steps=[(&#x27;transform_sc&#x27;,\n",
       "                                                   FunctionTransformer(func=&lt;function &lt;lambda&gt; at 0x000002092AC68720&gt;))])),\n",
       "                                 (&#x27;preprocessor_stage_2&#x27;,\n",
       "                                  ColumnTransformer(transformers=[(&#x27;cat&#x27;,\n",
       "                                                                   Pipeline(steps=[(&#x27;OneHotEncode&#x27;,\n",
       "                                                                                    OneHotEncoder(handle_unknown=&#x27;ignore&#x27;))]),\n",
       "                                                                   [&#x27;City&#x27;,\n",
       "                                                                    &#x27;Education&#x27;,\n",
       "                                                                    &#x27;EverBenched&#x27;,\n",
       "                                                                    &#x27;Gender&#x27;]),\n",
       "                                                                  (&#x27;num&#x27;,\n",
       "                                                                   Pipeline(steps=[(&#x27;scale_data&#x27;,\n",
       "                                                                                    StandardScaler()),\n",
       "                                                                                   (&#x27;simple_imputer1&#x27;,\n",
       "                                                                                    SimpleImputer(fill_value=0,\n",
       "                                                                                                  strategy=&#x27;constant&#x27;))]),\n",
       "                                                                   [&#x27;Age&#x27;,\n",
       "                                                                    &#x27;ExperienceInCurrentDomain&#x27;,\n",
       "                                                                    &#x27;JoiningYear&#x27;,\n",
       "                                                                    &#x27;PaymentTier&#x27;])]))])),\n",
       "                (&#x27;classifier&#x27;, RandomForestClassifier())])</pre></div></div></div><div class=\"sk-serial\"><div class=\"sk-item\"><div class=\"sk-label-container\"><div class=\"sk-label sk-toggleable\"><input class=\"sk-toggleable__control sk-hidden--visually\" id=\"sk-estimator-id-20\" type=\"checkbox\" ><label for=\"sk-estimator-id-20\" class=\"sk-toggleable__label sk-toggleable__label-arrow\">preprocessor: Pipeline</label><div class=\"sk-toggleable__content\"><pre>Pipeline(steps=[(&#x27;preprocessor_stage_1&#x27;,\n",
       "                 Pipeline(steps=[(&#x27;transform_sc&#x27;,\n",
       "                                  FunctionTransformer(func=&lt;function &lt;lambda&gt; at 0x000002092AC68720&gt;))])),\n",
       "                (&#x27;preprocessor_stage_2&#x27;,\n",
       "                 ColumnTransformer(transformers=[(&#x27;cat&#x27;,\n",
       "                                                  Pipeline(steps=[(&#x27;OneHotEncode&#x27;,\n",
       "                                                                   OneHotEncoder(handle_unknown=&#x27;ignore&#x27;))]),\n",
       "                                                  [&#x27;City&#x27;, &#x27;Education&#x27;,\n",
       "                                                   &#x27;EverBenched&#x27;, &#x27;Gender&#x27;]),\n",
       "                                                 (&#x27;num&#x27;,\n",
       "                                                  Pipeline(steps=[(&#x27;scale_data&#x27;,\n",
       "                                                                   StandardScaler()),\n",
       "                                                                  (&#x27;simple_imputer1&#x27;,\n",
       "                                                                   SimpleImputer(fill_value=0,\n",
       "                                                                                 strategy=&#x27;constant&#x27;))]),\n",
       "                                                  [&#x27;Age&#x27;,\n",
       "                                                   &#x27;ExperienceInCurrentDomain&#x27;,\n",
       "                                                   &#x27;JoiningYear&#x27;,\n",
       "                                                   &#x27;PaymentTier&#x27;])]))])</pre></div></div></div><div class=\"sk-serial\"><div class=\"sk-item\"><div class=\"sk-label-container\"><div class=\"sk-label sk-toggleable\"><input class=\"sk-toggleable__control sk-hidden--visually\" id=\"sk-estimator-id-21\" type=\"checkbox\" ><label for=\"sk-estimator-id-21\" class=\"sk-toggleable__label sk-toggleable__label-arrow\">preprocessor_stage_1: Pipeline</label><div class=\"sk-toggleable__content\"><pre>Pipeline(steps=[(&#x27;transform_sc&#x27;,\n",
       "                 FunctionTransformer(func=&lt;function &lt;lambda&gt; at 0x000002092AC68720&gt;))])</pre></div></div></div><div class=\"sk-serial\"><div class=\"sk-item\"><div class=\"sk-estimator sk-toggleable\"><input class=\"sk-toggleable__control sk-hidden--visually\" id=\"sk-estimator-id-22\" type=\"checkbox\" ><label for=\"sk-estimator-id-22\" class=\"sk-toggleable__label sk-toggleable__label-arrow\">FunctionTransformer</label><div class=\"sk-toggleable__content\"><pre>FunctionTransformer(func=&lt;function &lt;lambda&gt; at 0x000002092AC68720&gt;)</pre></div></div></div></div></div><div class=\"sk-item sk-dashed-wrapped\"><div class=\"sk-label-container\"><div class=\"sk-label sk-toggleable\"><input class=\"sk-toggleable__control sk-hidden--visually\" id=\"sk-estimator-id-23\" type=\"checkbox\" ><label for=\"sk-estimator-id-23\" class=\"sk-toggleable__label sk-toggleable__label-arrow\">preprocessor_stage_2: ColumnTransformer</label><div class=\"sk-toggleable__content\"><pre>ColumnTransformer(transformers=[(&#x27;cat&#x27;,\n",
       "                                 Pipeline(steps=[(&#x27;OneHotEncode&#x27;,\n",
       "                                                  OneHotEncoder(handle_unknown=&#x27;ignore&#x27;))]),\n",
       "                                 [&#x27;City&#x27;, &#x27;Education&#x27;, &#x27;EverBenched&#x27;,\n",
       "                                  &#x27;Gender&#x27;]),\n",
       "                                (&#x27;num&#x27;,\n",
       "                                 Pipeline(steps=[(&#x27;scale_data&#x27;,\n",
       "                                                  StandardScaler()),\n",
       "                                                 (&#x27;simple_imputer1&#x27;,\n",
       "                                                  SimpleImputer(fill_value=0,\n",
       "                                                                strategy=&#x27;constant&#x27;))]),\n",
       "                                 [&#x27;Age&#x27;, &#x27;ExperienceInCurrentDomain&#x27;,\n",
       "                                  &#x27;JoiningYear&#x27;, &#x27;PaymentTier&#x27;])])</pre></div></div></div><div class=\"sk-parallel\"><div class=\"sk-parallel-item\"><div class=\"sk-item\"><div class=\"sk-label-container\"><div class=\"sk-label sk-toggleable\"><input class=\"sk-toggleable__control sk-hidden--visually\" id=\"sk-estimator-id-24\" type=\"checkbox\" ><label for=\"sk-estimator-id-24\" class=\"sk-toggleable__label sk-toggleable__label-arrow\">cat</label><div class=\"sk-toggleable__content\"><pre>[&#x27;City&#x27;, &#x27;Education&#x27;, &#x27;EverBenched&#x27;, &#x27;Gender&#x27;]</pre></div></div></div><div class=\"sk-serial\"><div class=\"sk-item\"><div class=\"sk-serial\"><div class=\"sk-item\"><div class=\"sk-estimator sk-toggleable\"><input class=\"sk-toggleable__control sk-hidden--visually\" id=\"sk-estimator-id-25\" type=\"checkbox\" ><label for=\"sk-estimator-id-25\" class=\"sk-toggleable__label sk-toggleable__label-arrow\">OneHotEncoder</label><div class=\"sk-toggleable__content\"><pre>OneHotEncoder(handle_unknown=&#x27;ignore&#x27;)</pre></div></div></div></div></div></div></div></div><div class=\"sk-parallel-item\"><div class=\"sk-item\"><div class=\"sk-label-container\"><div class=\"sk-label sk-toggleable\"><input class=\"sk-toggleable__control sk-hidden--visually\" id=\"sk-estimator-id-26\" type=\"checkbox\" ><label for=\"sk-estimator-id-26\" class=\"sk-toggleable__label sk-toggleable__label-arrow\">num</label><div class=\"sk-toggleable__content\"><pre>[&#x27;Age&#x27;, &#x27;ExperienceInCurrentDomain&#x27;, &#x27;JoiningYear&#x27;, &#x27;PaymentTier&#x27;]</pre></div></div></div><div class=\"sk-serial\"><div class=\"sk-item\"><div class=\"sk-serial\"><div class=\"sk-item\"><div class=\"sk-estimator sk-toggleable\"><input class=\"sk-toggleable__control sk-hidden--visually\" id=\"sk-estimator-id-27\" type=\"checkbox\" ><label for=\"sk-estimator-id-27\" class=\"sk-toggleable__label sk-toggleable__label-arrow\">StandardScaler</label><div class=\"sk-toggleable__content\"><pre>StandardScaler()</pre></div></div></div><div class=\"sk-item\"><div class=\"sk-estimator sk-toggleable\"><input class=\"sk-toggleable__control sk-hidden--visually\" id=\"sk-estimator-id-28\" type=\"checkbox\" ><label for=\"sk-estimator-id-28\" class=\"sk-toggleable__label sk-toggleable__label-arrow\">SimpleImputer</label><div class=\"sk-toggleable__content\"><pre>SimpleImputer(fill_value=0, strategy=&#x27;constant&#x27;)</pre></div></div></div></div></div></div></div></div></div></div></div></div><div class=\"sk-item\"><div class=\"sk-estimator sk-toggleable\"><input class=\"sk-toggleable__control sk-hidden--visually\" id=\"sk-estimator-id-29\" type=\"checkbox\" ><label for=\"sk-estimator-id-29\" class=\"sk-toggleable__label sk-toggleable__label-arrow\">RandomForestClassifier</label><div class=\"sk-toggleable__content\"><pre>RandomForestClassifier()</pre></div></div></div></div></div></div></div>"
      ],
      "text/plain": [
       "Pipeline(steps=[('preprocessor',\n",
       "                 Pipeline(steps=[('preprocessor_stage_1',\n",
       "                                  Pipeline(steps=[('transform_sc',\n",
       "                                                   FunctionTransformer(func=<function <lambda> at 0x000002092AC68720>))])),\n",
       "                                 ('preprocessor_stage_2',\n",
       "                                  ColumnTransformer(transformers=[('cat',\n",
       "                                                                   Pipeline(steps=[('OneHotEncode',\n",
       "                                                                                    OneHotEncoder(handle_unknown='ignore'))]),\n",
       "                                                                   ['City',\n",
       "                                                                    'Education',\n",
       "                                                                    'EverBenched',\n",
       "                                                                    'Gender']),\n",
       "                                                                  ('num',\n",
       "                                                                   Pipeline(steps=[('scale_data',\n",
       "                                                                                    StandardScaler()),\n",
       "                                                                                   ('simple_imputer1',\n",
       "                                                                                    SimpleImputer(fill_value=0,\n",
       "                                                                                                  strategy='constant'))]),\n",
       "                                                                   ['Age',\n",
       "                                                                    'ExperienceInCurrentDomain',\n",
       "                                                                    'JoiningYear',\n",
       "                                                                    'PaymentTier'])]))])),\n",
       "                ('classifier', RandomForestClassifier())])"
      ]
     },
     "execution_count": 15,
     "metadata": {},
     "output_type": "execute_result"
    }
   ],
   "source": [
    "from sklearn.ensemble import RandomForestClassifier\n",
    "\n",
    "pipeline = Pipeline(steps=[\n",
    "    ('preprocessor', preprocessor_stack),\n",
    "    ('classifier', RandomForestClassifier())\n",
    "])\n",
    "\n",
    "# Fit the pipeline on the training data\n",
    "pipeline.fit(X_train, y_train)"
   ]
  },
  {
   "cell_type": "code",
   "execution_count": 16,
   "id": "818a981f",
   "metadata": {},
   "outputs": [
    {
     "name": "stdout",
     "output_type": "stream",
     "text": [
      "Accuracy: 0.9202041912950026\n",
      "\n",
      "Classification Report:\n",
      "               precision    recall  f1-score   support\n",
      "\n",
      "          No       0.91      0.97      0.94      2443\n",
      "         Yes       0.94      0.82      0.88      1279\n",
      "\n",
      "    accuracy                           0.92      3722\n",
      "   macro avg       0.92      0.90      0.91      3722\n",
      "weighted avg       0.92      0.92      0.92      3722\n",
      "\n",
      "\n",
      "Confusion Matrix:\n",
      " [[2371   72]\n",
      " [ 225 1054]]\n"
     ]
    }
   ],
   "source": [
    "# Checking Training Accuracy\n",
    "y_train_pred = pipeline.predict(X_train)\n",
    "\n",
    "# Evaluate the model\n",
    "from sklearn.metrics import accuracy_score, classification_report, confusion_matrix\n",
    "\n",
    "print(\"Accuracy:\", accuracy_score(y_train,y_train_pred))\n",
    "print(\"\\nClassification Report:\\n\", classification_report(y_train,y_train_pred))\n",
    "print(\"\\nConfusion Matrix:\\n\", confusion_matrix(y_train,y_train_pred))"
   ]
  },
  {
   "cell_type": "code",
   "execution_count": 17,
   "id": "95d8a986",
   "metadata": {},
   "outputs": [
    {
     "data": {
      "text/html": [
       "<div>\n",
       "<style scoped>\n",
       "    .dataframe tbody tr th:only-of-type {\n",
       "        vertical-align: middle;\n",
       "    }\n",
       "\n",
       "    .dataframe tbody tr th {\n",
       "        vertical-align: top;\n",
       "    }\n",
       "\n",
       "    .dataframe thead th {\n",
       "        text-align: right;\n",
       "    }\n",
       "</style>\n",
       "<table border=\"1\" class=\"dataframe\">\n",
       "  <thead>\n",
       "    <tr style=\"text-align: right;\">\n",
       "      <th></th>\n",
       "      <th>Education</th>\n",
       "      <th>JoiningYear</th>\n",
       "      <th>City</th>\n",
       "      <th>PaymentTier</th>\n",
       "      <th>Age</th>\n",
       "      <th>Gender</th>\n",
       "      <th>EverBenched</th>\n",
       "      <th>ExperienceInCurrentDomain</th>\n",
       "    </tr>\n",
       "  </thead>\n",
       "  <tbody>\n",
       "    <tr>\n",
       "      <th>1128</th>\n",
       "      <td>Bachelors</td>\n",
       "      <td>2015</td>\n",
       "      <td>Pune</td>\n",
       "      <td>2</td>\n",
       "      <td>26</td>\n",
       "      <td>Female</td>\n",
       "      <td>No</td>\n",
       "      <td>4</td>\n",
       "    </tr>\n",
       "  </tbody>\n",
       "</table>\n",
       "</div>"
      ],
      "text/plain": [
       "      Education  JoiningYear  City  PaymentTier  Age  Gender EverBenched  \\\n",
       "1128  Bachelors         2015  Pune            2   26  Female          No   \n",
       "\n",
       "      ExperienceInCurrentDomain  \n",
       "1128                          4  "
      ]
     },
     "execution_count": 17,
     "metadata": {},
     "output_type": "execute_result"
    }
   ],
   "source": [
    "# CREATING A TEST\n",
    "\n",
    "my_pred_array=X_test.iloc[15:16:]\n",
    "\n",
    "my_pred_array"
   ]
  },
  {
   "cell_type": "code",
   "execution_count": 18,
   "id": "83e0949b",
   "metadata": {},
   "outputs": [
    {
     "data": {
      "text/html": [
       "<div>\n",
       "<style scoped>\n",
       "    .dataframe tbody tr th:only-of-type {\n",
       "        vertical-align: middle;\n",
       "    }\n",
       "\n",
       "    .dataframe tbody tr th {\n",
       "        vertical-align: top;\n",
       "    }\n",
       "\n",
       "    .dataframe thead th {\n",
       "        text-align: right;\n",
       "    }\n",
       "</style>\n",
       "<table border=\"1\" class=\"dataframe\">\n",
       "  <thead>\n",
       "    <tr style=\"text-align: right;\">\n",
       "      <th></th>\n",
       "      <th>cat__City_Bangalore</th>\n",
       "      <th>cat__City_New Delhi</th>\n",
       "      <th>cat__City_Pune</th>\n",
       "      <th>cat__Education_Bachelors</th>\n",
       "      <th>cat__Education_Masters</th>\n",
       "      <th>cat__Education_PHD</th>\n",
       "      <th>cat__EverBenched_nan</th>\n",
       "      <th>cat__Gender_Female</th>\n",
       "      <th>cat__Gender_Male</th>\n",
       "      <th>num__Age</th>\n",
       "      <th>num__ExperienceInCurrentDomain</th>\n",
       "      <th>num__JoiningYear</th>\n",
       "      <th>num__PaymentTier</th>\n",
       "    </tr>\n",
       "  </thead>\n",
       "  <tbody>\n",
       "    <tr>\n",
       "      <th>0</th>\n",
       "      <td>0.0</td>\n",
       "      <td>0.0</td>\n",
       "      <td>1.0</td>\n",
       "      <td>1.0</td>\n",
       "      <td>0.0</td>\n",
       "      <td>0.0</td>\n",
       "      <td>1.0</td>\n",
       "      <td>1.0</td>\n",
       "      <td>0.0</td>\n",
       "      <td>-0.708208</td>\n",
       "      <td>0.702257</td>\n",
       "      <td>-0.03787</td>\n",
       "      <td>-1.226396</td>\n",
       "    </tr>\n",
       "  </tbody>\n",
       "</table>\n",
       "</div>"
      ],
      "text/plain": [
       "   cat__City_Bangalore  cat__City_New Delhi  cat__City_Pune  \\\n",
       "0                  0.0                  0.0             1.0   \n",
       "\n",
       "   cat__Education_Bachelors  cat__Education_Masters  cat__Education_PHD  \\\n",
       "0                       1.0                     0.0                 0.0   \n",
       "\n",
       "   cat__EverBenched_nan  cat__Gender_Female  cat__Gender_Male  num__Age  \\\n",
       "0                   1.0                 1.0               0.0 -0.708208   \n",
       "\n",
       "   num__ExperienceInCurrentDomain  num__JoiningYear  num__PaymentTier  \n",
       "0                        0.702257          -0.03787         -1.226396  "
      ]
     },
     "execution_count": 18,
     "metadata": {},
     "output_type": "execute_result"
    }
   ],
   "source": [
    "pd.DataFrame(preprocessor_stack.transform(my_pred_array),columns=preprocessor_stack[1].get_feature_names_out())"
   ]
  },
  {
   "cell_type": "code",
   "execution_count": 19,
   "id": "ad002fdd",
   "metadata": {},
   "outputs": [
    {
     "data": {
      "text/plain": [
       "'{\"Education\":{\"1128\":\"Bachelors\"},\"JoiningYear\":{\"1128\":2015},\"City\":{\"1128\":\"Pune\"},\"PaymentTier\":{\"1128\":2},\"Age\":{\"1128\":26},\"Gender\":{\"1128\":\"Female\"},\"EverBenched\":{\"1128\":\"No\"},\"ExperienceInCurrentDomain\":{\"1128\":4}}'"
      ]
     },
     "execution_count": 19,
     "metadata": {},
     "output_type": "execute_result"
    }
   ],
   "source": [
    "my_pred_array.to_json()"
   ]
  },
  {
   "cell_type": "code",
   "execution_count": 20,
   "id": "a2847d4a",
   "metadata": {},
   "outputs": [
    {
     "data": {
      "text/plain": [
       "array(['Yes'], dtype=object)"
      ]
     },
     "execution_count": 20,
     "metadata": {},
     "output_type": "execute_result"
    }
   ],
   "source": [
    "# USING PIPELINE TO DO ALL TOGHETHER (PREPROCESSING FOLLOWED BY MODEL PREDICT)\n",
    "\n",
    "# SINGLE PREDICTION\n",
    "\n",
    "y_pred = pipeline.predict(my_pred_array)\n",
    "\n",
    "y_pred"
   ]
  },
  {
   "cell_type": "code",
   "execution_count": 21,
   "id": "e84f5f55",
   "metadata": {},
   "outputs": [
    {
     "name": "stdout",
     "output_type": "stream",
     "text": [
      "Accuracy: 0.841031149301826\n",
      "\n",
      "Classification Report:\n",
      "               precision    recall  f1-score   support\n",
      "\n",
      "          No       0.86      0.91      0.88       610\n",
      "         Yes       0.81      0.71      0.75       321\n",
      "\n",
      "    accuracy                           0.84       931\n",
      "   macro avg       0.83      0.81      0.82       931\n",
      "weighted avg       0.84      0.84      0.84       931\n",
      "\n",
      "\n",
      "Confusion Matrix:\n",
      " [[556  54]\n",
      " [ 94 227]]\n"
     ]
    }
   ],
   "source": [
    "# USING PIPELINE TO DO ALL TOGHETHER (PREPROCESSING FOLLOWED BY MODEL PREDICT)\n",
    "\n",
    "# MULTIPLE PREDICTION\n",
    "y_test_pred = pipeline.predict(X_test)\n",
    "\n",
    "# EVALUATE MODEL FOR TEST ACCURACY SINCE WE HAVE TEST SET\n",
    "from sklearn.metrics import accuracy_score, classification_report, confusion_matrix\n",
    "\n",
    "print(\"Accuracy:\", accuracy_score(y_test, y_test_pred))\n",
    "print(\"\\nClassification Report:\\n\", classification_report(y_test, y_test_pred))\n",
    "print(\"\\nConfusion Matrix:\\n\", confusion_matrix(y_test, y_test_pred))"
   ]
  },
  {
   "cell_type": "code",
   "execution_count": 22,
   "id": "1e4fe340",
   "metadata": {},
   "outputs": [
    {
     "name": "stdout",
     "output_type": "stream",
     "text": [
      "Defaulting to user installation because normal site-packages is not writeable\n",
      "Requirement already satisfied: dill in c:\\programdata\\anaconda3\\lib\\site-packages (0.3.6)\n"
     ]
    }
   ],
   "source": [
    "!pip install dill"
   ]
  },
  {
   "cell_type": "code",
   "execution_count": 23,
   "id": "f715876a",
   "metadata": {},
   "outputs": [
    {
     "name": "stdout",
     "output_type": "stream",
     "text": [
      "pipeline saved successfully to file\n"
     ]
    }
   ],
   "source": [
    "import dill\n",
    "\n",
    "# save trained pipeline file\n",
    "\n",
    "with open('pipeline.pkl', 'wb') as file:\n",
    "    dill.dump(pipeline, file)\n",
    "\n",
    "print('pipeline saved successfully to file')"
   ]
  },
  {
   "cell_type": "code",
   "execution_count": 25,
   "id": "1396c43f",
   "metadata": {},
   "outputs": [
    {
     "name": "stdout",
     "output_type": "stream",
     "text": [
      "pipeline loaded successfully to file\n"
     ]
    }
   ],
   "source": [
    "#Load the saved pipeline from the file\n",
    "\n",
    "with open('pipeline.pkl', 'rb') as file:\n",
    "    loaded_pipeline = dill.load(file)\n",
    "\n",
    "print('pipeline loaded successfully to file')"
   ]
  },
  {
   "cell_type": "code",
   "execution_count": 26,
   "id": "4fd65b49",
   "metadata": {},
   "outputs": [
    {
     "data": {
      "text/plain": [
       "{'steps': [('preprocessor',\n",
       "   Pipeline(steps=[('preprocessor_stage_1',\n",
       "                    Pipeline(steps=[('transform_sc',\n",
       "                                     FunctionTransformer(func=<function <lambda> at 0x000002092B121C60>))])),\n",
       "                   ('preprocessor_stage_2',\n",
       "                    ColumnTransformer(transformers=[('cat',\n",
       "                                                     Pipeline(steps=[('OneHotEncode',\n",
       "                                                                      OneHotEncoder(handle_unknown='ignore'))]),\n",
       "                                                     ['City', 'Education',\n",
       "                                                      'EverBenched', 'Gender']),\n",
       "                                                    ('num',\n",
       "                                                     Pipeline(steps=[('scale_data',\n",
       "                                                                      StandardScaler()),\n",
       "                                                                     ('simple_imputer1',\n",
       "                                                                      SimpleImputer(fill_value=0,\n",
       "                                                                                    strategy='constant'))]),\n",
       "                                                     ['Age',\n",
       "                                                      'ExperienceInCurrentDomain',\n",
       "                                                      'JoiningYear',\n",
       "                                                      'PaymentTier'])]))])),\n",
       "  ('classifier', RandomForestClassifier())],\n",
       " 'memory': None,\n",
       " 'verbose': False,\n",
       " '_sklearn_version': '1.3.0'}"
      ]
     },
     "execution_count": 26,
     "metadata": {},
     "output_type": "execute_result"
    }
   ],
   "source": [
    "loaded_pipeline.__getstate__()"
   ]
  },
  {
   "cell_type": "code",
   "execution_count": 27,
   "id": "702b6b6b",
   "metadata": {},
   "outputs": [
    {
     "data": {
      "text/plain": [
       "array(['Yes'], dtype=object)"
      ]
     },
     "execution_count": 27,
     "metadata": {},
     "output_type": "execute_result"
    }
   ],
   "source": [
    "y_pred = loaded_pipeline.predict(my_pred_array)\n",
    "\n",
    "y_pred"
   ]
  },
  {
   "cell_type": "code",
   "execution_count": null,
   "id": "945ad155",
   "metadata": {},
   "outputs": [],
   "source": []
  },
  {
   "cell_type": "code",
   "execution_count": null,
   "id": "8a394f23",
   "metadata": {},
   "outputs": [],
   "source": []
  }
 ],
 "metadata": {
  "kernelspec": {
   "display_name": "Python 3 (ipykernel)",
   "language": "python",
   "name": "python3"
  },
  "language_info": {
   "codemirror_mode": {
    "name": "ipython",
    "version": 3
   },
   "file_extension": ".py",
   "mimetype": "text/x-python",
   "name": "python",
   "nbconvert_exporter": "python",
   "pygments_lexer": "ipython3",
   "version": "3.11.5"
  }
 },
 "nbformat": 4,
 "nbformat_minor": 5
}
